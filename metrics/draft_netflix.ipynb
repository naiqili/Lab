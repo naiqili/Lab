{
 "cells": [
  {
   "cell_type": "code",
   "execution_count": null,
   "metadata": {
    "collapsed": true
   },
   "outputs": [],
   "source": []
  },
  {
   "cell_type": "code",
   "execution_count": 36,
   "metadata": {
    "collapsed": false
   },
   "outputs": [
    {
     "data": {
      "text/html": [
       "<div>\n",
       "<table border=\"1\" class=\"dataframe\">\n",
       "  <thead>\n",
       "    <tr style=\"text-align: right;\">\n",
       "      <th></th>\n",
       "      <th>movieId</th>\n",
       "      <th>rating</th>\n",
       "      <th>timestamp</th>\n",
       "    </tr>\n",
       "    <tr>\n",
       "      <th>userId</th>\n",
       "      <th></th>\n",
       "      <th></th>\n",
       "      <th></th>\n",
       "    </tr>\n",
       "  </thead>\n",
       "  <tbody>\n",
       "    <tr>\n",
       "      <th>6</th>\n",
       "      <td>241</td>\n",
       "      <td>3.0</td>\n",
       "      <td>2005-11-25</td>\n",
       "    </tr>\n",
       "    <tr>\n",
       "      <th>6</th>\n",
       "      <td>329</td>\n",
       "      <td>4.0</td>\n",
       "      <td>2004-09-15</td>\n",
       "    </tr>\n",
       "    <tr>\n",
       "      <th>6</th>\n",
       "      <td>457</td>\n",
       "      <td>5.0</td>\n",
       "      <td>2004-09-15</td>\n",
       "    </tr>\n",
       "    <tr>\n",
       "      <th>6</th>\n",
       "      <td>173</td>\n",
       "      <td>4.0</td>\n",
       "      <td>2004-09-15</td>\n",
       "    </tr>\n",
       "    <tr>\n",
       "      <th>6</th>\n",
       "      <td>494</td>\n",
       "      <td>3.0</td>\n",
       "      <td>2004-11-17</td>\n",
       "    </tr>\n",
       "  </tbody>\n",
       "</table>\n",
       "</div>"
      ],
      "text/plain": [
       "        movieId  rating   timestamp\n",
       "userId                             \n",
       "6           241     3.0  2005-11-25\n",
       "6           329     4.0  2004-09-15\n",
       "6           457     5.0  2004-09-15\n",
       "6           173     4.0  2004-09-15\n",
       "6           494     3.0  2004-11-17"
      ]
     },
     "execution_count": 36,
     "metadata": {},
     "output_type": "execute_result"
    }
   ],
   "source": [
    "import pandas as pd\n",
    "from datetime import date\n",
    "import os\n",
    "\n",
    "nf_path = '/mnt/hgfs/share/data/nf_prize_dataset/'\n",
    "trainset_path = nf_path + 'training_set/'\n",
    "\n",
    "datas_lst = []\n",
    "\n",
    "movie_list = os.listdir(trainset_path)\n",
    "\n",
    "# Dataset too large. We test a part of the movies.\n",
    "test_cnt = 500\n",
    "\n",
    "for i in range(test_cnt):\n",
    "    movie_filename = movie_list[i]\n",
    "    movie_path = os.path.join(trainset_path, movie_filename)\n",
    "    with open(movie_path) as f:\n",
    "        line = f.readline().strip()\n",
    "        movieId = int(line[:-1])\n",
    "        for line in f:\n",
    "            userId, rating, rate_date = line.split(',')\n",
    "            userId = int(userId)\n",
    "            rating = float(rating)\n",
    "            year, month, day = map(int, rate_date.split('-'))\n",
    "            rate_date = date(year, month, day)\n",
    "            #print userId, rating, rate_date\n",
    "            datas_lst.append([userId, movieId, rating, rate_date])\n",
    "\n",
    "datas_pd = pd.DataFrame(data=datas_lst, columns=['userId', 'movieId', 'rating', 'timestamp']).set_index('userId').sort_index()\n",
    "datas_pd.head()\n",
    "\n"
   ]
  },
  {
   "cell_type": "code",
   "execution_count": 34,
   "metadata": {
    "collapsed": false
   },
   "outputs": [
    {
     "name": "stdout",
     "output_type": "stream",
     "text": [
      "         count\n",
      "userId        \n",
      "387418       5\n",
      "1664010      5\n",
      "305344       5\n",
      "2118461      5\n",
      "2439493      5\n",
      "636262       4\n",
      "1461435      4\n",
      "1403217      3\n",
      "2291306      3\n",
      "1935793      3\n",
      "2606799      3\n",
      "16272        3\n",
      "2147527      3\n",
      "515436       3\n",
      "2056022      2\n",
      "873713       2\n",
      "883478       2\n",
      "1784150      2\n",
      "759737       2\n",
      "1013802      2\n",
      "2561674      2\n",
      "1932594      2\n",
      "618272       2\n",
      "2276790      2\n",
      "2415196      2\n",
      "99400        2\n",
      "1838586      2\n",
      "371701       2\n",
      "885013       2\n",
      "799442       2\n",
      "...        ...\n",
      "874943       1\n",
      "851368       1\n",
      "860246       1\n",
      "851410       1\n",
      "851855       1\n",
      "852374       1\n",
      "853383       1\n",
      "854411       1\n",
      "854949       1\n",
      "856985       1\n",
      "857132       1\n",
      "858666       1\n",
      "859146       1\n",
      "859412       1\n",
      "860196       1\n",
      "863302       1\n",
      "871580       1\n",
      "863898       1\n",
      "864542       1\n",
      "864786       1\n",
      "867624       1\n",
      "868600       1\n",
      "868608       1\n",
      "868700       1\n",
      "869766       1\n",
      "870391       1\n",
      "870421       1\n",
      "871489       1\n",
      "871548       1\n",
      "2648861      1\n",
      "\n",
      "[3888 rows x 1 columns]\n"
     ]
    }
   ],
   "source": [
    "user_group = datas_pd.groupby(datas_pd.index).size()\n",
    "user_group.name = 'count'\n",
    "user_group = user_group.reset_index().set_index('userId').sort_values('count', ascending=False)\n",
    "\n",
    "# The top 5 users that have the most ratings\n",
    "user_group.head()"
   ]
  },
  {
   "cell_type": "code",
   "execution_count": null,
   "metadata": {
    "collapsed": true
   },
   "outputs": [],
   "source": []
  }
 ],
 "metadata": {
  "kernelspec": {
   "display_name": "Python 2",
   "language": "python",
   "name": "python2"
  },
  "language_info": {
   "codemirror_mode": {
    "name": "ipython",
    "version": 2
   },
   "file_extension": ".py",
   "mimetype": "text/x-python",
   "name": "python",
   "nbconvert_exporter": "python",
   "pygments_lexer": "ipython2",
   "version": "2.7.6"
  }
 },
 "nbformat": 4,
 "nbformat_minor": 2
}
