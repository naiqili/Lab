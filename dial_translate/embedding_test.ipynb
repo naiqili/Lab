{
 "cells": [
  {
   "cell_type": "markdown",
   "metadata": {
    "collapsed": true
   },
   "source": [
    "Load model and embedding data."
   ]
  },
  {
   "cell_type": "code",
   "execution_count": 1,
   "metadata": {
    "collapsed": false
   },
   "outputs": [
    {
     "name": "stdout",
     "output_type": "stream",
     "text": [
      "Model loaded.\n",
      "[u'requestaddr', u'informpricerange', u'requestarea', u'negate', u'requestpricerange', u'reqmore', u'informname', u'denyfood', u'confirmpricerange', u'requestsignature', u'requestphone', u'informarea', u'reqalts', u'informfood', u'denyname', u'repeat', u'confirmarea', u'requestfood', u'informthis', u'requestname', u'restart', u'affirm', u'bye', u'thankyou', u'ack', u'confirmfood', u'hello', u'requestpostcode']\n",
      "Data loaded.\n",
      "Embedding examples:\n",
      "abstract act: informpricerange informfood\n",
      "abstract embeding (first 10 dims): [-1.07515895 -1.07764149  1.10352218 -1.07548642  1.10030317 -1.10138834\n",
      " -1.1110394  -1.08907247 -1.10309875 -1.10277915]\n",
      "natural act: <START> moderately priced swedish food <END>\n",
      "natural embeding (first 10 dims): [-1.18781614 -1.23067629  1.2489723  -1.19667137  1.25797606 -1.23147237\n",
      " -1.25716376 -1.21695387 -1.25545728 -1.24380517]\n"
     ]
    }
   ],
   "source": [
    "import theano\n",
    "import theano.tensor as T\n",
    "import numpy as np\n",
    "import cPickle\n",
    "import random\n",
    "from utils import *\n",
    "from state import *\n",
    "from emb_model import EmbModel\n",
    "\n",
    "theano.config.floatX='float32'\n",
    "\n",
    "model_name = 'model/trainemb_emb100_h100'\n",
    "nat_path = model_name + '_natural_model.npz'\n",
    "abs_path = model_name + '_abstract_model.npz'\n",
    "emb_path = 'model/word_emb.npz'\n",
    "\n",
    "state = simple_state()\n",
    "embModel = EmbModel(state)\n",
    "nat_model = embModel.natural_encoder\n",
    "abs_model = embModel.abstract_encoder\n",
    "\n",
    "nat_model.load(nat_path)\n",
    "abs_model.load(abs_path)\n",
    "W_emb = embModel.W_emb\n",
    "W_emb.set_value(numpy.load(emb_path)[W_emb.name])\n",
    "\n",
    "print('Model loaded.')\n",
    "\n",
    "emb_data = cPickle.load(open('tmp/emb_train.pkl'))\n",
    "(word2ind, ind2word) = cPickle.load(open('tmp/dict.pkl'))\n",
    "acttype = cPickle.load(open('tmp/acttype_cnt.pkl')).keys()\n",
    "print acttype\n",
    "\n",
    "print('Data loaded.')\n",
    "\n",
    "print('Embedding examples:')\n",
    "for (abs_coded, nat_coded, abs_emb, nat_emb) in emb_data[:1]:\n",
    "    print \"abstract act:\", abs_translate(abs_coded, acttype)\n",
    "    print \"abstract embeding (first 10 dims):\", abs_emb[:10]\n",
    "    print \"natural act:\", nat_translate(nat_coded, ind2word)\n",
    "    print \"natural embeding (first 10 dims):\", nat_emb[:10]"
   ]
  },
  {
   "cell_type": "markdown",
   "metadata": {},
   "source": [
    "Randomly selects a sentence, and finds its k-NN abstract actions and natural sentences in the embedding space."
   ]
  },
  {
   "cell_type": "code",
   "execution_count": 2,
   "metadata": {
    "collapsed": false
   },
   "outputs": [
    {
     "name": "stdout",
     "output_type": "stream",
     "text": [
      "Test 0:\n",
      "natural sentence: <START> anything else <END>\n",
      "(Ground truth) abstract action: reqalts\n",
      "kNN natural sentences (k = 5):\n",
      "<START> is there anything else <END>\n",
      "<START> is there anything else <END>\n",
      "<START> is there anything else <END>\n",
      "<START> do you have another option anything else <END>\n",
      "<START> is there anything else <END>\n",
      "kNN abstract actions (k = 5):\n",
      "reqalts\n",
      "requestpricerange\n",
      "requestpricerange\n",
      "requestpricerange\n",
      "requestpricerange\n",
      "\n",
      "Test 1:\n",
      "natural sentence: <START> unintelligible <END>\n",
      "(Ground truth) abstract action: None\n",
      "kNN natural sentences (k = 5):\n",
      "<START> noise <END>\n",
      "<START> hello welcome to the cambridge system <END>\n",
      "<START> system <END>\n",
      "<START> unintelligible <END>\n",
      "<START> unintelligible <END>\n",
      "kNN abstract actions (k = 5):\n",
      "requestpostcode\n",
      "None\n",
      "None\n",
      "None\n",
      "None\n",
      "\n",
      "Test 2:\n",
      "natural sentence: <START> cheap <END>\n",
      "(Ground truth) abstract action: informpricerange\n",
      "kNN natural sentences (k = 5):\n",
      "<START> moderate <END>\n",
      "<START> i dont care about the price range <END>\n",
      "<START> cheap <END>\n",
      "<START> expensive <END>\n",
      "<START> expensive <END>\n",
      "kNN abstract actions (k = 5):\n",
      "informfood\n",
      "informarea\n",
      "informarea\n",
      "informarea\n",
      "informarea\n",
      "\n",
      "Test 3:\n",
      "natural sentence: <START> indian food in the south part of town <END>\n",
      "(Ground truth) abstract action: informarea informfood\n",
      "kNN natural sentences (k = 5):\n",
      "<START> restaurant in the south part of town that serves mexican food <END>\n",
      "<START> um im looking for a restaurant in the center part of town that serves lebanese food <END>\n",
      "<START> i want to find a restaurant in the center and it should serve lebanese food <END>\n",
      "<START> i need a restaurant serving crossover food in the west part of town <END>\n",
      "<START> im looking for a restaurant in the north part of town that serves european food <END>\n",
      "kNN abstract actions (k = 5):\n",
      "informarea informfood\n",
      "informarea informfood\n",
      "informarea informfood\n",
      "informpricerange informarea reqalts\n",
      "informarea informfood\n",
      "\n",
      "Test 4:\n",
      "natural sentence: <START> un unusual food <END>\n",
      "(Ground truth) abstract action: informfood\n",
      "kNN natural sentences (k = 5):\n",
      "<START> catalan <END>\n",
      "<START> catalan <END>\n",
      "<START> italian <END>\n",
      "<START> uh world food <END>\n",
      "<START> mediterranean food <END>\n",
      "kNN abstract actions (k = 5):\n",
      "informarea reqalts\n",
      "informarea hello\n",
      "informarea\n",
      "reqalts informfood\n",
      "informfood\n",
      "\n"
     ]
    }
   ],
   "source": [
    "def kNN_natural(emb_data, nat_emb, k):\n",
    "    ind = range(len(emb_data))\n",
    "    ind.sort(key=lambda x: emb_dist(emb_data[x][3], nat_emb))\n",
    "    res = ind[:k]\n",
    "    return res\n",
    "    \n",
    "def kNN_abstract(emb_data, abs_emb, k):\n",
    "    ind = range(len(emb_data))\n",
    "    ind.sort(key=lambda x: emb_dist(emb_data[x][2], abs_emb))\n",
    "    res = ind[:k]\n",
    "    return res\n",
    "    \n",
    "n_test = 5\n",
    "k = 5\n",
    "for n in range(n_test):\n",
    "    print 'Test %d:' % n\n",
    "    r = random.randint(0, len(emb_data)-1)\n",
    "    print 'natural sentence: %s' % nat_translate(emb_data[r][1], ind2word)\n",
    "    knn_nat = kNN_natural(emb_data, emb_data[r][3], k)\n",
    "    print '(Ground truth) abstract action: %s' % abs_translate(emb_data[r][0], acttype)\n",
    "    print 'kNN natural sentences (k = %d):' % k\n",
    "    for x in knn_nat:\n",
    "        print nat_translate(emb_data[x][1], ind2word)\n",
    "    knn_abs = kNN_abstract(emb_data, emb_data[r][3], k)\n",
    "    print 'kNN abstract actions (k = %d):' % k\n",
    "    for x in knn_abs:\n",
    "        print abs_translate(emb_data[x][0], acttype)\n",
    "    print"
   ]
  },
  {
   "cell_type": "markdown",
   "metadata": {},
   "source": [
    "Now we try to mannually provide an input sentence (if a word is out of vocab, we simply remove it)."
   ]
  },
  {
   "cell_type": "code",
   "execution_count": 3,
   "metadata": {
    "collapsed": false
   },
   "outputs": [
    {
     "name": "stdout",
     "output_type": "stream",
     "text": [
      "The embedding of the given sentence is (first 10 dims):\n",
      "[-1.22900498 -1.23601556  1.26215184 -1.23137248  1.25976586 -1.2596302\n",
      " -1.27010119 -1.24573755 -1.26133811 -1.26154995]\n",
      "kNN natural sentences (k = 5):\n",
      "<START> restaurant in the south part of town that serves mexican food <END>\n",
      "<START> um im looking for a restaurant in the center part of town that serves lebanese food <END>\n",
      "<START> i want to find a restaurant in the center and it should serve lebanese food <END>\n",
      "<START> i need a restaurant serving crossover food in the west part of town <END>\n",
      "<START> im looking for a restaurant in the north part of town that serves european food <END>\n",
      "kNN abstract actions (k = 5):\n",
      "informarea informfood\n",
      "informarea informfood\n",
      "informpricerange informfood\n",
      "informarea informfood\n",
      "informarea informfood\n",
      "\n"
     ]
    }
   ],
   "source": [
    "test_sent = 'i want cheap chinese food at town center'\n",
    "words = test_sent.split()\n",
    "nat_coded = [1]\n",
    "for w in words:\n",
    "    if w in word2ind:\n",
    "        nat_coded.append(word2ind[w])\n",
    "    else:\n",
    "        print '  out of vocab: %s' % w\n",
    "m = state['seqlen']\n",
    "nat_coded_mat = numpy.zeros((m, 1), dtype='int32')\n",
    "sent_len = len(nat_coded)\n",
    "nat_coded_mat[:sent_len, 0] = nat_coded\n",
    "nat_output_fn = theano.function([embModel.natural_input],\n",
    "                                embModel.nat_output)\n",
    "nat_emb = nat_output_fn(nat_coded_mat)[0]\n",
    "\n",
    "print 'The embedding of the given sentence is (first 10 dims):'\n",
    "print nat_emb[:10]\n",
    "\n",
    "knn_nat = kNN_natural(emb_data, nat_emb, k)\n",
    "print 'kNN natural sentences (k = %d):' % k\n",
    "for x in knn_nat:\n",
    "    print nat_translate(emb_data[x][1], ind2word)\n",
    "knn_abs = kNN_abstract(emb_data, nat_emb, k)\n",
    "print 'kNN abstract actions (k = %d):' % k\n",
    "for x in knn_abs:\n",
    "    print abs_translate(emb_data[x][0], acttype)\n",
    "print"
   ]
  },
  {
   "cell_type": "code",
   "execution_count": null,
   "metadata": {
    "collapsed": true
   },
   "outputs": [],
   "source": []
  }
 ],
 "metadata": {
  "anaconda-cloud": {},
  "kernelspec": {
   "display_name": "Python 2",
   "language": "python",
   "name": "python2"
  },
  "language_info": {
   "codemirror_mode": {
    "name": "ipython",
    "version": 2
   },
   "file_extension": ".py",
   "mimetype": "text/x-python",
   "name": "python",
   "nbconvert_exporter": "python",
   "pygments_lexer": "ipython2",
   "version": "2.7.6"
  }
 },
 "nbformat": 4,
 "nbformat_minor": 1
}
