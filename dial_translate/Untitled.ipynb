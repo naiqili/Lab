{
 "cells": [
  {
   "cell_type": "markdown",
   "metadata": {
    "collapsed": true
   },
   "source": [
    "Load model and embedding data."
   ]
  },
  {
   "cell_type": "code",
   "execution_count": 22,
   "metadata": {
    "collapsed": false
   },
   "outputs": [
    {
     "name": "stdout",
     "output_type": "stream",
     "text": [
      "Model loaded.\n",
      "[u'requestaddr', u'informpricerange', u'requestarea', u'negate', u'requestpricerange', u'reqmore', u'informname', u'denyfood', u'confirmpricerange', u'requestsignature', u'requestphone', u'informarea', u'reqalts', u'informfood', u'denyname', u'repeat', u'confirmarea', u'requestfood', u'informthis', u'requestname', u'restart', u'affirm', u'bye', u'thankyou', u'ack', u'confirmfood', u'hello', u'requestpostcode']\n",
      "Data loaded.\n",
      "Embedding examples:\n",
      "abstract act: informpricerange informfood\n",
      "abstract embeding (first 10 dims): [-1.07515895 -1.07764149  1.10352218 -1.07548642  1.10030317 -1.10138834\n",
      " -1.1110394  -1.08907247 -1.10309875 -1.10277915]\n",
      "natural act: <START> moderately priced swedish food <END>\n",
      "natural embeding (first 10 dims): [-1.18781614 -1.23067629  1.2489723  -1.19667137  1.25797606 -1.23147237\n",
      " -1.25716376 -1.21695387 -1.25545728 -1.24380517]\n"
     ]
    }
   ],
   "source": [
    "import theano\n",
    "import theano.tensor as T\n",
    "import numpy as np\n",
    "import cPickle\n",
    "import random\n",
    "from utils import *\n",
    "from state import *\n",
    "from emb_model import EmbModel\n",
    "\n",
    "theano.config.floatX='float32'\n",
    "\n",
    "model_name = 'model/trainemb_emb100_h100'\n",
    "nat_path = model_name + '_natural_model.npz'\n",
    "abs_path = model_name + '_abstract_model.npz'\n",
    "emb_path = 'model/word_emb.npz'\n",
    "\n",
    "state = simple_state()\n",
    "embModel = EmbModel(state)\n",
    "nat_model = embModel.natural_encoder\n",
    "abs_model = embModel.abstract_encoder\n",
    "\n",
    "nat_model.load(nat_path)\n",
    "abs_model.load(abs_path)\n",
    "W_emb = embModel.W_emb\n",
    "W_emb.set_value(numpy.load(emb_path)[W_emb.name])\n",
    "\n",
    "print('Model loaded.')\n",
    "\n",
    "emb_data = cPickle.load(open('tmp/emb_train.pkl'))\n",
    "(word2ind, ind2word) = cPickle.load(open('tmp/dict.pkl'))\n",
    "acttype = cPickle.load(open('tmp/acttype_cnt.pkl')).keys()\n",
    "print acttype\n",
    "\n",
    "print('Data loaded.')\n",
    "\n",
    "print('Embedding examples:')\n",
    "for (abs_coded, nat_coded, abs_emb, nat_emb) in emb_data[:1]:\n",
    "    print \"abstract act:\", abs_translate(abs_coded, acttype)\n",
    "    print \"abstract embeding (first 10 dims):\", abs_emb[:10]\n",
    "    print \"natural act:\", nat_translate(nat_coded, ind2word)\n",
    "    print \"natural embeding (first 10 dims):\", nat_emb[:10]"
   ]
  },
  {
   "cell_type": "markdown",
   "metadata": {},
   "source": [
    "Randomly selects a sentence, and finds its k-NN abstract actions and natural sentences in the embedding space."
   ]
  },
  {
   "cell_type": "code",
   "execution_count": 23,
   "metadata": {
    "collapsed": false
   },
   "outputs": [
    {
     "name": "stdout",
     "output_type": "stream",
     "text": [
      "Test 0:\n",
      "natural sentence: <START> and whats the phone number <END>\n",
      "(Ground truth) abstract action: requestphone\n",
      "kNN natural sentences (k = 5):\n",
      "<START> phone number <END>\n",
      "<START> could i get the phone number and <END>\n",
      "<START> could have the phone number <END>\n",
      "<START> phone number <END>\n",
      "<START> phone number <END>\n",
      "kNN abstract actions (k = 5):\n",
      "requestaddr\n",
      "requestaddr\n",
      "requestaddr\n",
      "informarea\n",
      "requestaddr\n",
      "\n",
      "Test 1:\n",
      "natural sentence: <START> right <END>\n",
      "(Ground truth) abstract action: affirm\n",
      "kNN natural sentences (k = 5):\n",
      "<START> yes <END>\n",
      "<START> yes <END>\n",
      "<START> yes <END>\n",
      "<START> yes <END>\n",
      "<START> right <END>\n",
      "kNN abstract actions (k = 5):\n",
      "repeat\n",
      "repeat\n",
      "repeat\n",
      "repeat\n",
      "affirm\n",
      "\n",
      "Test 2:\n",
      "natural sentence: <START> center <END>\n",
      "(Ground truth) abstract action: informarea\n",
      "kNN natural sentences (k = 5):\n",
      "<START> center <END>\n",
      "<START> any part <END>\n",
      "<START> west part of town <END>\n",
      "<START> east <END>\n",
      "<START> the center of town <END>\n",
      "kNN abstract actions (k = 5):\n",
      "informarea\n",
      "informarea\n",
      "informarea\n",
      "informarea\n",
      "informarea\n",
      "\n",
      "Test 3:\n",
      "natural sentence: <START> what is their address and phone number <END>\n",
      "(Ground truth) abstract action: requestaddr requestphone\n",
      "kNN natural sentences (k = 5):\n",
      "<START> could i have the address and phone number <END>\n",
      "<START> whats the address and phone number <END>\n",
      "<START> address and phone number <END>\n",
      "<START> address and phone number <END>\n",
      "<START> what is the address and phone number <END>\n",
      "kNN abstract actions (k = 5):\n",
      "requestaddr requestphone\n",
      "requestaddr requestphone\n",
      "requestaddr requestphone\n",
      "requestaddr requestphone\n",
      "requestaddr requestphone\n",
      "\n",
      "Test 4:\n",
      "natural sentence: <START> thank you good bye <END>\n",
      "(Ground truth) abstract action: bye thankyou\n",
      "kNN natural sentences (k = 5):\n",
      "<START> thank you good bye <END>\n",
      "<START> thank you good bye <END>\n",
      "<START> thank you good bye <END>\n",
      "<START> thank you good bye <END>\n",
      "<START> thank you good bye <END>\n",
      "kNN abstract actions (k = 5):\n",
      "bye thankyou\n",
      "bye thankyou\n",
      "bye thankyou\n",
      "bye thankyou\n",
      "bye\n",
      "\n"
     ]
    }
   ],
   "source": [
    "def kNN_natural(emb_data, nat_emb, k):\n",
    "    ind = range(len(emb_data))\n",
    "    ind.sort(key=lambda x: emb_dist(emb_data[x][3], nat_emb))\n",
    "    res = ind[:k]\n",
    "    return res\n",
    "    \n",
    "def kNN_abstract(emb_data, abs_emb, k):\n",
    "    ind = range(len(emb_data))\n",
    "    ind.sort(key=lambda x: emb_dist(emb_data[x][2], abs_emb))\n",
    "    res = ind[:k]\n",
    "    return res\n",
    "    \n",
    "n_test = 5\n",
    "k = 5\n",
    "for n in range(n_test):\n",
    "    print 'Test %d:' % n\n",
    "    r = random.randint(0, len(emb_data)-1)\n",
    "    print 'natural sentence: %s' % nat_translate(emb_data[r][1], ind2word)\n",
    "    knn_nat = kNN_natural(emb_data, emb_data[r][3], k)\n",
    "    print '(Ground truth) abstract action: %s' % abs_translate(emb_data[r][0], acttype)\n",
    "    print 'kNN natural sentences (k = %d):' % k\n",
    "    for x in knn_nat:\n",
    "        print nat_translate(emb_data[x][1], ind2word)\n",
    "    knn_abs = kNN_abstract(emb_data, emb_data[r][3], k)\n",
    "    print 'kNN abstract actions (k = %d):' % k\n",
    "    for x in knn_abs:\n",
    "        print abs_translate(emb_data[x][0], acttype)\n",
    "    print"
   ]
  },
  {
   "cell_type": "markdown",
   "metadata": {},
   "source": [
    "Now we try to mannually provide an input sentence (if a word is out of vocab, we simply remove it)."
   ]
  },
  {
   "cell_type": "code",
   "execution_count": 28,
   "metadata": {
    "collapsed": false
   },
   "outputs": [
    {
     "name": "stdout",
     "output_type": "stream",
     "text": [
      "The embedding of the given sentence is (first 10 dims):\n",
      "[-1.33026624 -1.33571839  1.36670554 -1.33142149  1.36374378 -1.36391652\n",
      " -1.37621915 -1.34800661 -1.36621261 -1.36623621]\n",
      "kNN natural sentences (k = 5):\n",
      "<START> is there another restaurant in the moderately price range in the east part of town <END>\n",
      "<START> are there any restaurants in the south part of town that are expensive <END>\n",
      "<START> are there any other expensive restaurants in the east part of town <END>\n",
      "<START> what about indian food in the cheap price range <END>\n",
      "<START> how about moderately priced thai food <END>\n",
      "kNN abstract actions (k = 5):\n",
      "informarea informfood\n",
      "informarea reqalts informfood\n",
      "informarea informfood\n",
      "requestphone\n",
      "informpricerange informfood\n",
      "\n"
     ]
    }
   ],
   "source": [
    "test_sent = 'i want cheap chinese food at town center'\n",
    "words = test_sent.split()\n",
    "nat_coded = []\n",
    "for w in words:\n",
    "    if w in word2ind:\n",
    "        nat_coded.append(word2ind[w])\n",
    "    else:\n",
    "        print '  out of vocab: %s' % w\n",
    "m = state['seqlen']\n",
    "nat_coded_mat = numpy.zeros((m, 1), dtype='int32')\n",
    "sent_len = len(nat_coded)\n",
    "nat_coded_mat[:sent_len, 0] = nat_coded\n",
    "nat_output_fn = theano.function([embModel.natural_input],\n",
    "                                embModel.nat_output)\n",
    "nat_emb = nat_output_fn(nat_coded_mat)[0]\n",
    "\n",
    "print 'The embedding of the given sentence is (first 10 dims):'\n",
    "print nat_emb[:10]\n",
    "\n",
    "knn_nat = kNN_natural(emb_data, nat_emb, k)\n",
    "print 'kNN natural sentences (k = %d):' % k\n",
    "for x in knn_nat:\n",
    "    print nat_translate(emb_data[x][1], ind2word)\n",
    "knn_abs = kNN_abstract(emb_data, nat_emb, k)\n",
    "print 'kNN abstract actions (k = %d):' % k\n",
    "for x in knn_abs:\n",
    "    print abs_translate(emb_data[x][0], acttype)\n",
    "print"
   ]
  },
  {
   "cell_type": "code",
   "execution_count": null,
   "metadata": {
    "collapsed": true
   },
   "outputs": [],
   "source": []
  }
 ],
 "metadata": {
  "kernelspec": {
   "display_name": "Python 2",
   "language": "python",
   "name": "python2"
  },
  "language_info": {
   "codemirror_mode": {
    "name": "ipython",
    "version": 2
   },
   "file_extension": ".py",
   "mimetype": "text/x-python",
   "name": "python",
   "nbconvert_exporter": "python",
   "pygments_lexer": "ipython2",
   "version": "2.7.6"
  }
 },
 "nbformat": 4,
 "nbformat_minor": 1
}
