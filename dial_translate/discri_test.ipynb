{
 "cells": [
  {
   "cell_type": "markdown",
   "metadata": {
    "collapsed": true
   },
   "source": [
    "Load model and embedding data."
   ]
  },
  {
   "cell_type": "code",
   "execution_count": 11,
   "metadata": {
    "collapsed": false
   },
   "outputs": [
    {
     "name": "stdout",
     "output_type": "stream",
     "text": [
      "Model loaded.\n",
      "[u'requestaddr', u'informpricerange', u'requestarea', u'negate', u'requestpricerange', u'reqmore', u'informname', u'denyfood', u'confirmpricerange', u'requestsignature', u'requestphone', u'informarea', u'reqalts', u'informfood', u'denyname', u'repeat', u'confirmarea', u'requestfood', u'informthis', u'requestname', u'restart', u'affirm', u'bye', u'thankyou', u'ack', u'confirmfood', u'hello', u'requestpostcode']\n",
      "Data loaded.\n"
     ]
    }
   ],
   "source": [
    "import theano\n",
    "import theano.tensor as T\n",
    "import numpy as np\n",
    "import cPickle\n",
    "import random\n",
    "from utils import *\n",
    "from state import *\n",
    "from discri_model import DiscriModel\n",
    "\n",
    "theano.config.floatX='float32'\n",
    "\n",
    "model_name = 'model/train_discri_full_emb100_h256_valid20_model.npz'\n",
    "\n",
    "state = prototype_state()\n",
    "model = DiscriModel(state)\n",
    "model.load(model_name)\n",
    "\n",
    "print('Model loaded.')\n",
    "\n",
    "(word2ind, ind2word) = cPickle.load(open('tmp/dict.pkl'))\n",
    "acttype = cPickle.load(open('tmp/acttype_cnt.pkl'))\n",
    "print acttype.keys()\n",
    "\n",
    "print('Data loaded.')"
   ]
  },
  {
   "cell_type": "markdown",
   "metadata": {},
   "source": [
    "Now we try to mannually provide an input sentence (if a word is out of vocab, we simply remove it)."
   ]
  },
  {
   "cell_type": "code",
   "execution_count": 18,
   "metadata": {
    "collapsed": false
   },
   "outputs": [
    {
     "name": "stdout",
     "output_type": "stream",
     "text": [
      "Coded input: [1, 273, 661, 144, 467, 0]\n",
      "Prediction (coded): [539 539 539 539 539 539 539   4   4   4 539 539 539 539 539 539 539   4\n",
      " 539   4   4 539 539 539 539 539 539 539 539 539 539 539   4 539 539]\n",
      "1\n",
      "1\n",
      "1\n",
      "1\n",
      "1\n",
      "1\n",
      "4\n",
      "1\n",
      "1\n",
      "1\n",
      "1\n",
      "1\n",
      "1\n",
      "2\n",
      "3\n",
      "1\n",
      "1\n",
      "1\n",
      "1\n",
      "1\n",
      "1\n",
      "1\n",
      "1\n",
      "1\n",
      "1\n",
      "2\n",
      "1\n",
      "1\n",
      "requestaddr: <NO>\n",
      "informpricerange: <NO>\n",
      "thankyou: <NO>\n",
      "requestarea: <NO>\n",
      "negate: <NO>\n",
      "requestpricerange: <NO>\n",
      "reqmore: <NO>\n",
      "informname: <NO> <NULL> <NULL> <NULL>\n",
      "denyfood: <NO>\n",
      "confirmpricerange: <NO>\n",
      "requestsignature: <NO>\n",
      "requestphone: <NO>\n",
      "informarea: <NO>\n",
      "reqalts: <NO>\n",
      "informfood: <NO> <NULL>\n",
      "denyname: <NO> <NULL> <NULL>\n",
      "repeat: <NO>\n",
      "confirmarea: <NO>\n",
      "requestfood: <NO>\n",
      "informthis: <NO>\n",
      "requestname: <NO>\n",
      "restart: <NO>\n",
      "bye: <NO>\n",
      "affirm: <NO>\n",
      "ack: <NO>\n",
      "confirmfood: <NO> <NULL>\n",
      "hello: <NO>\n",
      "requestpostcode: <NO>\n"
     ]
    }
   ],
   "source": [
    "test_sent = 'moderately priced swedish food'\n",
    "words = test_sent.split()\n",
    "nat_coded = [1]\n",
    "for w in words:\n",
    "    if w in word2ind:\n",
    "        nat_coded.append(word2ind[w])\n",
    "    else:\n",
    "        print '  out of vocab: %s' % w\n",
    "nat_coded.append(0)\n",
    "print 'Coded input:', nat_coded\n",
    "\n",
    "m = state['seqlen']\n",
    "nat_coded_mat = numpy.zeros((m, 1), dtype='int32')\n",
    "sent_len = len(nat_coded)\n",
    "nat_coded_mat[:sent_len, 0] = nat_coded\n",
    "pred_fn = theano.function([model.natural_input],\n",
    "                                model.pred)\n",
    "pred = pred_fn(nat_coded_mat)\n",
    "\n",
    "print 'Prediction (coded):', pred\n",
    "\n",
    "def decode_act(acttype, pred):\n",
    "    res = {}\n",
    "    pos = 0\n",
    "    for act in acttype.keys():\n",
    "        res[act] = []\n",
    "        k = max(1, acttype[act])\n",
    "        print k\n",
    "        while k > 0:\n",
    "            res[act].append(pred[pos])\n",
    "            pos = pos + 1\n",
    "            k = k - 1\n",
    "    return res\n",
    "\n",
    "res = decode_act(acttype, pred)\n",
    "for act in res.keys():\n",
    "    print \"%s: %s\" % (act, ' '.join([ind2word[ind] for ind in res[act]]))"
   ]
  },
  {
   "cell_type": "code",
   "execution_count": null,
   "metadata": {
    "collapsed": true
   },
   "outputs": [],
   "source": []
  }
 ],
 "metadata": {
  "anaconda-cloud": {},
  "kernelspec": {
   "display_name": "Python 2",
   "language": "python",
   "name": "python2"
  },
  "language_info": {
   "codemirror_mode": {
    "name": "ipython",
    "version": 2
   },
   "file_extension": ".py",
   "mimetype": "text/x-python",
   "name": "python",
   "nbconvert_exporter": "python",
   "pygments_lexer": "ipython2",
   "version": "2.7.6"
  }
 },
 "nbformat": 4,
 "nbformat_minor": 1
}
