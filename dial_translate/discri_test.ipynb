{
 "cells": [
  {
   "cell_type": "markdown",
   "metadata": {
    "collapsed": true
   },
   "source": [
    "Load model and data."
   ]
  },
  {
   "cell_type": "code",
   "execution_count": 1,
   "metadata": {
    "collapsed": false
   },
   "outputs": [
    {
     "name": "stdout",
     "output_type": "stream",
     "text": [
      "Model loaded.\n",
      "[u'requestaddr', u'informpricerange', u'requestarea', u'negate', u'requestpricerange', u'reqmore', u'informname', u'denyfood', u'confirmpricerange', u'requestsignature', u'requestphone', u'informarea', u'reqalts', u'informfood', u'denyname', u'repeat', u'confirmarea', u'requestfood', u'informthis', u'requestname', u'restart', u'affirm', u'bye', u'thankyou', u'ack', u'confirmfood', u'hello', u'requestpostcode']\n",
      "Data loaded.\n"
     ]
    }
   ],
   "source": [
    "import theano\n",
    "import theano.tensor as T\n",
    "import numpy as np\n",
    "import cPickle\n",
    "import random\n",
    "from utils import *\n",
    "from state import *\n",
    "from discri_model import DiscriModel\n",
    "\n",
    "theano.config.floatX='float32'\n",
    "\n",
    "model_name = 'model/train_discri_full_emb256_h128x128_layer2_model.npz'\n",
    "\n",
    "state = prototype_state()\n",
    "model = DiscriModel(state)\n",
    "model.load(model_name)\n",
    "\n",
    "print('Model loaded.')\n",
    "\n",
    "(word2ind, ind2word) = cPickle.load(open('tmp/dict.pkl'))\n",
    "acttype = cPickle.load(open('tmp/acttype_cnt.pkl'))\n",
    "print acttype.keys()\n",
    "\n",
    "print('Data loaded.')"
   ]
  },
  {
   "cell_type": "markdown",
   "metadata": {
    "collapsed": true
   },
   "source": [
    "We randomly sample some data from the dev set and see the results."
   ]
  },
  {
   "cell_type": "code",
   "execution_count": 18,
   "metadata": {
    "collapsed": false
   },
   "outputs": [
    {
     "name": "stdout",
     "output_type": "stream",
     "text": [
      "Input sent: is there any serving vietnamese\n",
      "reqalts: <YES>\n",
      "informfood: vietnamese <NULL>\n",
      "\n",
      "Input sent: thare are different expensive restaurants in the east part of town\n",
      "informpricerange: expensive\n",
      "informarea: east\n",
      "\n",
      "Input sent: postal code\n",
      "requestpostcode: <YES>\n",
      "\n",
      "Input sent: that serves restaurant in south part of town\n",
      "informarea: south\n",
      "\n",
      "Input sent: im looking for a restaurant in the west part of town\n",
      "informarea: west\n",
      "\n",
      "Input sent: can i have the address and the price range\n",
      "requestaddr: <YES>\n",
      "requestpricerange: <YES>\n",
      "\n",
      "Input sent: address\n",
      "requestaddr: <YES>\n",
      "\n",
      "Input sent: west\n",
      "informarea: west\n",
      "\n",
      "Input sent: steakhouse\n",
      "informfood: steakhouse <NULL>\n",
      "\n",
      "Input sent: how about indian food\n",
      "reqalts: <YES>\n",
      "informfood: indian <NULL>\n",
      "\n"
     ]
    }
   ],
   "source": [
    "def process(test_sent):\n",
    "    global acttype, ind2word, word2ind\n",
    "    print \"Input sent:\", test_sent\n",
    "    words = test_sent.split()\n",
    "    nat_coded = [1]\n",
    "    for w in words:\n",
    "        if w in word2ind:\n",
    "            nat_coded.append(word2ind[w])\n",
    "        else:\n",
    "            print '  out of vocab: %s' % w\n",
    "    nat_coded.append(0)\n",
    "    # print 'Coded input:', nat_coded\n",
    "\n",
    "    m = state['seqlen']\n",
    "    nat_coded_mat = numpy.zeros((m, 1), dtype='int32')\n",
    "    sent_len = len(nat_coded)\n",
    "    nat_coded_mat[:sent_len, 0] = nat_coded\n",
    "    pred_fn = theano.function([model.natural_input],\n",
    "                                    model.pred)\n",
    "    pred = pred_fn(nat_coded_mat)\n",
    "\n",
    "    # print 'Prediction (coded):', pred\n",
    "\n",
    "    def decode_act(acttype, pred):\n",
    "        res = {}\n",
    "        pos = 0\n",
    "        for act in acttype.keys():\n",
    "            res[act] = []\n",
    "            k = max(1, acttype[act])\n",
    "            while k > 0:\n",
    "                res[act].append(pred[pos])\n",
    "                pos = pos + 1\n",
    "                k = k - 1\n",
    "        return res\n",
    "\n",
    "    \n",
    "    res = decode_act(acttype, pred)\n",
    "    for act in res.keys():\n",
    "        if ind2word[res[act][0]] != '<NO>':\n",
    "            print \"%s: %s\" % (act, ' '.join([ind2word[ind] for ind in res[act]]))\n",
    "    print\n",
    "    \n",
    "dev_data = cPickle.load(open('tmp/dev_data.pkl'))\n",
    "random.shuffle(dev_data)\n",
    "\n",
    "for k in range(10):\n",
    "    test_sent = dev_data[k][1]\n",
    "    process(test_sent)"
   ]
  },
  {
   "cell_type": "markdown",
   "metadata": {},
   "source": [
    "Now we try to mannually provide an input sentence (if a word is out of vocab, we simply remove it)."
   ]
  },
  {
   "cell_type": "code",
   "execution_count": 19,
   "metadata": {
    "collapsed": false,
    "scrolled": false
   },
   "outputs": [
    {
     "name": "stdout",
     "output_type": "stream",
     "text": [
      "Input sent: thank you\n",
      "thankyou: <YES>\n",
      "\n",
      "Input sent: goodbye\n",
      "bye: <YES>\n",
      "\n",
      "Input sent: i want to have some expensive chinese food\n",
      "informfood: mediterranean <NULL>\n",
      "\n",
      "Input sent: can i have some australian food at town center\n",
      "informarea: centre\n",
      "informfood: french <NULL>\n",
      "\n",
      "Input sent: is there any other choice\n",
      "reqalts: <YES>\n",
      "informfood: cantonese <NULL>\n",
      "\n",
      "Input sent: i need a cheap restaurant serving italian food\n",
      "informpricerange: cheap\n",
      "informfood: italian <NULL>\n",
      "\n",
      "Input sent: i need a cheap restaurant serving chinese food\n",
      "informpricerange: cheap\n",
      "informfood: brazilian <NULL>\n",
      "\n",
      "Input sent: whats the location\n",
      "requestarea: <YES>\n",
      "\n",
      "Input sent: how about the price\n",
      "informpricerange: dontcare\n",
      "\n",
      "Input sent: i would like something cheap\n",
      "informpricerange: cheap\n",
      "\n",
      "Input sent: tell me a british restaurant\n",
      "informfood: vietnamese <NULL>\n",
      "\n",
      "Input sent: tell me a british restaurant and give me the phone number\n",
      "reqalts: <YES>\n",
      "informfood: chinese <NULL>\n",
      "\n",
      "Input sent: tell me a british restaurant and give me the phone number and the address\n",
      "requestaddr: <YES>\n",
      "\n",
      "Input sent: tell me a british restaurant and give me the phone number and the address thank you and good bye\n",
      "requestphone: <YES>\n",
      "\n"
     ]
    }
   ],
   "source": [
    "test_set = ['thank you', \\\n",
    "            'goodbye', \\\n",
    "            'i want to have some expensive chinese food', \\\n",
    "            'can i have some australian food at town center', 'is there any other choice', \\\n",
    "            'i need a cheap restaurant serving italian food', \\\n",
    "            'i need a cheap restaurant serving chinese food', \\\n",
    "            'whats the location', \\\n",
    "            'how about the price', \\\n",
    "            'i would like something cheap', \\\n",
    "            'tell me a british restaurant', \\\n",
    "            # let's try something abnormal\n",
    "            'tell me a british restaurant and give me the phone number', \\\n",
    "            'tell me a british restaurant and give me the phone number and the address', \\\n",
    "            'tell me a british restaurant and give me the phone number and the address thank you and good bye']\n",
    "\n",
    "\n",
    "            \n",
    "for sent in test_set:\n",
    "    process(sent)"
   ]
  },
  {
   "cell_type": "code",
   "execution_count": null,
   "metadata": {
    "collapsed": true
   },
   "outputs": [],
   "source": []
  }
 ],
 "metadata": {
  "anaconda-cloud": {},
  "kernelspec": {
   "display_name": "Python [default]",
   "language": "python",
   "name": "python2"
  },
  "language_info": {
   "codemirror_mode": {
    "name": "ipython",
    "version": 2
   },
   "file_extension": ".py",
   "mimetype": "text/x-python",
   "name": "python",
   "nbconvert_exporter": "python",
   "pygments_lexer": "ipython2",
   "version": "2.7.12"
  }
 },
 "nbformat": 4,
 "nbformat_minor": 1
}
