{
 "cells": [
  {
   "cell_type": "code",
   "execution_count": 1,
   "metadata": {
    "collapsed": true
   },
   "outputs": [],
   "source": [
    "from nltk import Tree\n",
    "import cPickle, codecs\n",
    "from zipfile import ZipFile\n",
    "import numpy as np\n",
    "from collections import defaultdict"
   ]
  },
  {
   "cell_type": "code",
   "execution_count": 4,
   "metadata": {
    "collapsed": false
   },
   "outputs": [
    {
     "name": "stdout",
     "output_type": "stream",
     "text": [
      "(2 (3 (3 Effective) (2 but)) (1 (1 too-tepid) (2 biopic)))\n",
      "\n",
      "Effective\n",
      "(1 (1 too-tepid) (2 biopic))\n"
     ]
    }
   ],
   "source": [
    "train_tree_path = '../assignment3/trees/train.txt'\n",
    "valid_tree_path = '../assignment3/trees/dev.txt'\n",
    "test_tree_path = '../assignment3/trees/test.txt'\n",
    "\n",
    "wv_path = '../../data/glove.840B.300d.zip'\n",
    "wv_filename = 'glove.840B.300d.txt'\n",
    "wv_size = 300\n",
    "\n",
    "output_path = 'tmp/words.txt'\n",
    "dict_path = '_data/dict.pkl'\n",
    "embed_path = 'tmp/embeddings.pkl'\n",
    "word_info_path = 'tmp/word_info.pkl'\n",
    "\n",
    "\n",
    "with codecs.open(test_tree_path, encoding='utf-8') as f:\n",
    "    for line in f:\n",
    "        print line\n",
    "        t = Tree.fromstring(line)\n",
    "        print t[0][0][0]\n",
    "        print t[1]\n",
    "        break"
   ]
  },
  {
   "cell_type": "code",
   "execution_count": 5,
   "metadata": {
    "collapsed": false
   },
   "outputs": [
    {
     "name": "stdout",
     "output_type": "stream",
     "text": [
      "I look like a string, but I'm actually a sequence of bytes. ❤\n"
     ]
    }
   ],
   "source": [
    "import codecs\n",
    "\n",
    "s = \"I look like a string, but I'm actually a sequence of bytes. \\xe2\\x9d\\xa4\"\n",
    "ss = codecs.decode(s, 'utf-8')\n",
    "\n",
    "print ss"
   ]
  },
  {
   "cell_type": "code",
   "execution_count": 5,
   "metadata": {
    "collapsed": false
   },
   "outputs": [
    {
     "name": "stdout",
     "output_type": "stream",
     "text": [
      "[[ 0  1  2  3  4]\n",
      " [ 5  6  7  8  9]\n",
      " [10 11 12 13 14]\n",
      " [15 16 17 18 19]\n",
      " [20 21 22 23 24]]\n",
      "[[0 1]\n",
      " [5 6]] 12\n",
      "[[3 4]\n",
      " [8 9]]\n",
      "[[15 16]\n",
      " [20 21]]\n",
      "[[18 19]\n",
      " [23 24]]\n"
     ]
    }
   ],
   "source": [
    "a = np.arange(25).reshape((5, 5))\n",
    "print a\n",
    "\n",
    "print a[0:2, 0:2], np.sum(a[0:2, 0:2])\n",
    "print a[0:2, 3:5]\n",
    "print a[3:5, 0:2]\n",
    "print a[3:5, 3:5]"
   ]
  },
  {
   "cell_type": "code",
   "execution_count": 5,
   "metadata": {
    "collapsed": false
   },
   "outputs": [
    {
     "name": "stdout",
     "output_type": "stream",
     "text": [
      "[0 1 1]\n"
     ]
    }
   ],
   "source": [
    "a = np.asarray([0,0,1]).astype(np.int32)\n",
    "b = np.asarray([0,1,1]).astype(np.int32)\n",
    "\n",
    "print np.logical_or(a, b).astype(np.int32)"
   ]
  },
  {
   "cell_type": "code",
   "execution_count": null,
   "metadata": {
    "collapsed": true
   },
   "outputs": [],
   "source": []
  }
 ],
 "metadata": {
  "anaconda-cloud": {},
  "kernelspec": {
   "display_name": "Python [default]",
   "language": "python",
   "name": "python2"
  },
  "language_info": {
   "codemirror_mode": {
    "name": "ipython",
    "version": 2
   },
   "file_extension": ".py",
   "mimetype": "text/x-python",
   "name": "python",
   "nbconvert_exporter": "python",
   "pygments_lexer": "ipython2",
   "version": "2.7.12"
  }
 },
 "nbformat": 4,
 "nbformat_minor": 1
}
