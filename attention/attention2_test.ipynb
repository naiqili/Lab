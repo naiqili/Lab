{
 "cells": [
  {
   "cell_type": "markdown",
   "metadata": {
    "collapsed": true
   },
   "source": [
    "Load model and embedding data."
   ]
  },
  {
   "cell_type": "code",
   "execution_count": 1,
   "metadata": {
    "collapsed": false
   },
   "outputs": [
    {
     "name": "stdout",
     "output_type": "stream",
     "text": [
      "Data loaded.\n"
     ]
    }
   ],
   "source": [
    "import theano\n",
    "import theano.tensor as T\n",
    "import numpy as np\n",
    "import cPickle\n",
    "import random\n",
    "from utils import *\n",
    "from state import *\n",
    "from attention_model2 import AttentionModel2\n",
    "\n",
    "theano.config.floatX='float32'\n",
    "\n",
    "model_name = 'model/attention2_emb256_h256_v2_model.npz'\n",
    "\n",
    "state = prototype_state()\n",
    "model = AttentionModel2(state, test_mode=True)\n",
    "model.load(model_name)\n",
    "\n",
    "(word2ind, ind2word) = cPickle.load(open('tmp/dict.pkl'))\n",
    "\n",
    "print('Data loaded.')"
   ]
  },
  {
   "cell_type": "markdown",
   "metadata": {},
   "source": [
    "Now we try to mannually provide an input sentence (if a word is out of vocab, we simply remove it)."
   ]
  },
  {
   "cell_type": "code",
   "execution_count": 7,
   "metadata": {
    "collapsed": false
   },
   "outputs": [
    {
     "name": "stdout",
     "output_type": "stream",
     "text": [
      "Test sent: moderately priced swedish food\n",
      "Explanation of: swedish\n",
      "    swedish: 0.9031\n",
      "    <END>: 0.0884\n",
      "    food: 0.0062\n",
      "    priced: 0.0013\n",
      "    moderately: 0.0011\n",
      "    <START>: 0.0000\n",
      "\n",
      "<START> swedish <END>\n",
      "\n",
      "Test sent: how about asian oriental\n",
      "Explanation of: asian\n",
      "    <END>: 0.6675\n",
      "    oriental: 0.3281\n",
      "    about: 0.0027\n",
      "    how: 0.0017\n",
      "    asian: 0.0001\n",
      "    <START>: 0.0000\n",
      "Explanation of: oriental\n",
      "    <END>: 0.6675\n",
      "    oriental: 0.3281\n",
      "    about: 0.0027\n",
      "    how: 0.0017\n",
      "    asian: 0.0001\n",
      "    <START>: 0.0000\n",
      "\n",
      "<START> asian oriental <END>\n",
      "\n",
      "Test sent: chinese food\n",
      "Explanation of: chinese\n",
      "    chinese: 0.7102\n",
      "    <END>: 0.1816\n",
      "    food: 0.1083\n",
      "    <START>: 0.0000\n",
      "\n",
      "<START> chinese <END>\n",
      "\n",
      "Test sent: moderately australian food\n",
      "Explanation of: australian\n",
      "    australian: 0.9988\n",
      "    moderately: 0.0005\n",
      "    <END>: 0.0005\n",
      "    food: 0.0002\n",
      "    <START>: 0.0000\n",
      "\n",
      "<START> australian <END>\n",
      "\n",
      "Test sent: is there any serving vietnamese\n",
      "Explanation of: vietnamese\n",
      "    vietnamese: 0.9343\n",
      "    there: 0.0618\n",
      "    is: 0.0033\n",
      "    <END>: 0.0006\n",
      "    serving: 0.0001\n",
      "    any: 0.0000\n",
      "    <START>: 0.0000\n",
      "\n",
      "<START> vietnamese <END>\n",
      "\n",
      "Test sent: can i have some catalan dish\n",
      "Explanation of: catalan\n",
      "    catalan: 0.8565\n",
      "    some: 0.0706\n",
      "    <END>: 0.0297\n",
      "    dish: 0.0176\n",
      "    can: 0.0112\n",
      "    have: 0.0080\n",
      "    i: 0.0064\n",
      "    <START>: 0.0000\n",
      "\n",
      "<START> catalan <END>\n",
      "\n"
     ]
    }
   ],
   "source": [
    "test_sents = ['moderately priced swedish food', 'how about asian oriental', 'chinese food', \\\n",
    "              'moderately australian food', 'is there any serving vietnamese', \\\n",
    "             'can i have some catalan dish']\n",
    "\n",
    "for (k, test_sent) in enumerate(test_sents):\n",
    "    print \"Test sent:\", test_sent\n",
    "    words = test_sent.split()\n",
    "    nat_coded = [1]\n",
    "    for w in words:\n",
    "        if w in word2ind:\n",
    "            nat_coded.append(word2ind[w])\n",
    "        else:\n",
    "            print '  out of vocab: %s' % w\n",
    "    nat_coded.append(0)\n",
    "    #print 'Coded input:', nat_coded\n",
    "\n",
    "    m = state['seq_len_in']\n",
    "    nat_coded_mat = numpy.zeros((m, 2), dtype='int32')\n",
    "    nat_mask = numpy.zeros((m, 2), dtype='float32')\n",
    "    sent_len = len(nat_coded)\n",
    "    nat_coded_mat[:sent_len, 0] = nat_coded\n",
    "    nat_mask[:sent_len, 0] = 1\n",
    "    nat_coded_mat[:sent_len, 1] = nat_coded\n",
    "    nat_mask[:sent_len, 1] = 1\n",
    "    pred_fn = model.build_gen_function()\n",
    "    \n",
    "    res = [1]\n",
    "    abs_in = 1\n",
    "    model.gen_reset()\n",
    "    while True:\n",
    "        abs_in_mat = np.zeros((2, ), dtype='int32') + abs_in\n",
    "        #print 'abs_in', abs_in_mat\n",
    "        [p_t, o_t, alpha_t] = pred_fn(nat_coded_mat, nat_mask, abs_in_mat)\n",
    "        #print \"ot\", o_t, ind2word[o_t[0]]\n",
    "        pt_col = p_t[0]\n",
    "        alpha_t = alpha_t[:, 0]\n",
    "        #print alpha_t\n",
    "        alpha_s = alpha_t.argsort()[::-1]\n",
    "        #print sum(pt_col)\n",
    "        pt_norm = [1.0 * a / sum(pt_col) for a in pt_col]\n",
    "        #print pt_norm\n",
    "        ind = np.asarray(pt_norm).argmax()\n",
    "        abs_in = ind\n",
    "        res.append(ind)\n",
    "        if ind == 0 or len(res) > 10:        \n",
    "            break\n",
    "        print 'Explanation of: %s' % ind2word[ind]\n",
    "        for k in alpha_s[:len(nat_coded)]:\n",
    "            print \"    %s: %.4f\" % (ind2word[nat_coded[k]], alpha_t[k])\n",
    "    print\n",
    "    print ' '.join([ind2word[ind] for ind in res])\n",
    "    print"
   ]
  },
  {
   "cell_type": "code",
   "execution_count": null,
   "metadata": {
    "collapsed": true
   },
   "outputs": [],
   "source": []
  }
 ],
 "metadata": {
  "anaconda-cloud": {},
  "kernelspec": {
   "display_name": "Python [default]",
   "language": "python",
   "name": "python2"
  },
  "language_info": {
   "codemirror_mode": {
    "name": "ipython",
    "version": 2
   },
   "file_extension": ".py",
   "mimetype": "text/x-python",
   "name": "python",
   "nbconvert_exporter": "python",
   "pygments_lexer": "ipython2",
   "version": "2.7.12"
  }
 },
 "nbformat": 4,
 "nbformat_minor": 1
}
