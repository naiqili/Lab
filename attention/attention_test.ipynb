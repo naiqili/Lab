{
 "cells": [
  {
   "cell_type": "markdown",
   "metadata": {
    "collapsed": true
   },
   "source": [
    "Load model and embedding data."
   ]
  },
  {
   "cell_type": "code",
   "execution_count": 1,
   "metadata": {
    "collapsed": false
   },
   "outputs": [
    {
     "name": "stdout",
     "output_type": "stream",
     "text": [
      "Data loaded.\n"
     ]
    }
   ],
   "source": [
    "import theano\n",
    "import theano.tensor as T\n",
    "import numpy as np\n",
    "import cPickle\n",
    "import random\n",
    "from utils import *\n",
    "from state import *\n",
    "from attention_model import AttentionModel\n",
    "\n",
    "theano.config.floatX='float32'\n",
    "\n",
    "model_name = 'model/attention_emb125_h125_model.npz'\n",
    "\n",
    "state = prototype_state()\n",
    "model = AttentionModel(state, test_mode=True)\n",
    "model.load(model_name)\n",
    "\n",
    "(word2ind, ind2word) = cPickle.load(open('tmp/dict.pkl'))\n",
    "\n",
    "print('Data loaded.')"
   ]
  },
  {
   "cell_type": "markdown",
   "metadata": {},
   "source": [
    "Now we try to mannually provide an input sentence (if a word is out of vocab, we simply remove it)."
   ]
  },
  {
   "cell_type": "code",
   "execution_count": 8,
   "metadata": {
    "collapsed": false
   },
   "outputs": [
    {
     "name": "stdout",
     "output_type": "stream",
     "text": [
      "Coded input: [1, 7, 467, 0]\n",
      "[250  13   1   1   1   1   1   1   1   1]\n",
      "0: american system <START> <START> <START> <START> <START> <START> <START> <START>\n"
     ]
    }
   ],
   "source": [
    "test_sents = ['chinese food']\n",
    "\n",
    "for (k, test_sent) in enumerate(test_sents):\n",
    "    words = test_sent.split()\n",
    "    nat_coded = [1]\n",
    "    for w in words:\n",
    "        if w in word2ind:\n",
    "            nat_coded.append(word2ind[w])\n",
    "        else:\n",
    "            print '  out of vocab: %s' % w\n",
    "    nat_coded.append(0)\n",
    "    print 'Coded input:', nat_coded\n",
    "\n",
    "    m = state['seq_len_in']\n",
    "    nat_coded_mat = numpy.zeros((m, 2), dtype='int32')\n",
    "    nat_mask = numpy.zeros((m, 2), dtype='float32')\n",
    "    sent_len = len(nat_coded)\n",
    "    nat_coded_mat[:sent_len, 0] = nat_coded\n",
    "    nat_mask[:sent_len, 0] = 1\n",
    "    pred_fn = theano.function([model.x_data, model.xmask],\n",
    "                                    model.ot)\n",
    "    pred = pred_fn(nat_coded_mat, nat_mask)\n",
    "    #print 'Prediction (coded):', pred\n",
    "\n",
    "    res_col = pred[:, 0]\n",
    "    print res_col\n",
    "\n",
    "    res = []\n",
    "    for ind in res_col:\n",
    "        res.append(ind)\n",
    "        if ind == 0:\n",
    "            break\n",
    "\n",
    "    print \"%d: %s\" % (k, ' '.join([ind2word[ind] for ind in res]))"
   ]
  },
  {
   "cell_type": "code",
   "execution_count": null,
   "metadata": {
    "collapsed": true
   },
   "outputs": [],
   "source": []
  }
 ],
 "metadata": {
  "anaconda-cloud": {},
  "kernelspec": {
   "display_name": "Python 2",
   "language": "python",
   "name": "python2"
  },
  "language_info": {
   "codemirror_mode": {
    "name": "ipython",
    "version": 2
   },
   "file_extension": ".py",
   "mimetype": "text/x-python",
   "name": "python",
   "nbconvert_exporter": "python",
   "pygments_lexer": "ipython2",
   "version": "2.7.6"
  }
 },
 "nbformat": 4,
 "nbformat_minor": 1
}
