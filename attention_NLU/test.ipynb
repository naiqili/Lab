{
 "cells": [
  {
   "cell_type": "markdown",
   "metadata": {
    "collapsed": true
   },
   "source": [
    "Load model and embedding data."
   ]
  },
  {
   "cell_type": "code",
   "execution_count": 3,
   "metadata": {
    "collapsed": false
   },
   "outputs": [
    {
     "name": "stdout",
     "output_type": "stream",
     "text": [
      "Data loaded.\n"
     ]
    }
   ],
   "source": [
    "import theano\n",
    "import theano.tensor as T\n",
    "import numpy as np\n",
    "import cPickle\n",
    "import random\n",
    "from utils import *\n",
    "from state import *\n",
    "from title_model import TitleModel\n",
    "from whenst_hour_model import WhenstHourModel\n",
    "\n",
    "theano.config.floatX='float32'\n",
    "\n",
    "title_model_name = 'model/title_emb256_h256_f32_tok10_model.npz'\n",
    "\n",
    "title_state = title_state()\n",
    "title_model = TitleModel(title_state, test_mode=True)\n",
    "title_model.load(title_model_name)\n",
    "\n",
    "whenst_hour_model_name = 'model/whenst_hour_emb256_h256_f32_model.npz'\n",
    "\n",
    "whenst_hour_state = whenst_hour_state()\n",
    "whenst_hour_model = WhenstHourModel(whenst_hour_state, test_mode=True)\n",
    "whenst_hour_model.load(whenst_hour_model_name)\n",
    "\n",
    "(ind2word, word2ind, _, _, _) = cPickle.load(open('data/dict.pkl'))\n",
    "\n",
    "print('Data loaded.')"
   ]
  },
  {
   "cell_type": "markdown",
   "metadata": {},
   "source": [
    "Now we try to mannually provide an input sentence (if a word is out of vocab, we simply remove it)."
   ]
  },
  {
   "cell_type": "code",
   "execution_count": 7,
   "metadata": {
    "collapsed": false,
    "scrolled": false
   },
   "outputs": [
    {
     "name": "stdout",
     "output_type": "stream",
     "text": [
      "Test sent: i would like to go hiking at three pm tomorrow\n",
      "  out of vocab: hiking, replaced with <TOK8>\n",
      "  out of vocab: tomorrow, replaced with <TOK5>\n",
      "Coded input: [1, 2227, 109, 2268, 1186, 1800, 10, 1139, 404, 1578, 7, 0]\n",
      "<START> i would like to go hiking at three pm tomorrow <END>\n",
      "\n",
      "<START> go hiking <END>\n",
      "\n",
      "[15 15]\n",
      "Test sent: i want to sleep all day\n",
      "  out of vocab: sleep, replaced with <TOK5>\n",
      "Coded input: [1, 2227, 152, 1186, 7, 1587, 1630, 0]\n",
      "<START> i want to sleep all day <END>\n",
      "\n",
      "<START> sleep out <END>\n",
      "\n",
      "[24 24]\n",
      "Test sent: i want to play video games\n",
      "  out of vocab: play, replaced with <TOK3>\n",
      "  out of vocab: video, replaced with <TOK2>\n",
      "  out of vocab: games, replaced with <TOK6>\n",
      "Coded input: [1, 2227, 152, 1186, 5, 4, 8, 0]\n",
      "<START> i want to play video games <END>\n",
      "\n",
      "<START> video play <END>\n",
      "\n",
      "[24 24]\n",
      "Test sent: i want to visit my dental\n",
      "Coded input: [1, 2227, 152, 1186, 689, 137, 534, 0]\n",
      "<START> i want to visit my dental <END>\n",
      "\n",
      "<START> visit my dental <END>\n",
      "\n",
      "[24 24]\n",
      "Test sent: i will wash my car this afternoon\n",
      "  out of vocab: wash, replaced with <TOK5>\n",
      "  out of vocab: car, replaced with <TOK8>\n",
      "Coded input: [1, 2227, 2194, 7, 137, 10, 1885, 547, 0]\n",
      "<START> i will wash my car this afternoon <END>\n",
      "\n",
      "<START> car my car <END>\n",
      "\n",
      "[24 24]\n",
      "Test sent: i want to play chess this afternoon\n",
      "  out of vocab: play, replaced with <TOK7>\n",
      "  out of vocab: chess, replaced with <TOK2>\n",
      "Coded input: [1, 2227, 152, 1186, 9, 4, 1885, 547, 0]\n",
      "<START> i want to play chess this afternoon <END>\n",
      "\n",
      "<START> take <TOK5> <END>\n",
      "\n",
      "[24 24]\n"
     ]
    }
   ],
   "source": [
    "def restoreW(ind_lst, ind2word, tmp_map):\n",
    "    res = []\n",
    "    for ind in ind_lst:\n",
    "        if ind in tmp_map:\n",
    "            res.append(tmp_map[ind])\n",
    "        else:\n",
    "            res.append(ind2word[ind])\n",
    "    return ' '.join(res)\n",
    "    \n",
    "\n",
    "test_sents = ['i would like to go hiking at three pm tomorrow', 'i want to sleep all day', 'i want to play video games', \\\n",
    "              'i want to visit my dental', 'i will wash my car this afternoon', 'i want to play chess this afternoon']\n",
    "\n",
    "for (k, test_sent) in enumerate(test_sents):\n",
    "    print \"Test sent:\", test_sent\n",
    "    \n",
    "    # Process title\n",
    "    words = test_sent.split()\n",
    "    nat_coded = [1]\n",
    "    tmp_map = {}\n",
    "    tok_set = range(10)\n",
    "    for w in words:\n",
    "        if w in word2ind:\n",
    "            nat_coded.append(word2ind[w])\n",
    "        else:\n",
    "            tok_ind = random.choice(tok_set)\n",
    "            tok_s = '<TOK%d>' % tok_ind\n",
    "            tok_set.remove(tok_ind)\n",
    "            nat_coded.append(word2ind[tok_s])\n",
    "            tmp_map[word2ind[tok_s]] = w\n",
    "            print '  out of vocab: %s, replaced with %s' % (w, tok_s)\n",
    "    nat_coded.append(0)\n",
    "    print 'Coded input:', nat_coded\n",
    "    print restoreW(nat_coded, ind2word, tmp_map)\n",
    "\n",
    "    m = title_state['seq_len_in']\n",
    "    nat_coded_mat = numpy.zeros((m, 2), dtype='int32')\n",
    "    nat_mask = numpy.zeros((m, 2), dtype='float32')\n",
    "    sent_len = len(nat_coded)\n",
    "    nat_coded_mat[:sent_len, 0] = nat_coded\n",
    "    nat_mask[:sent_len, 0] = 1\n",
    "    nat_coded_mat[:sent_len, 1] = nat_coded\n",
    "    nat_mask[:sent_len, 1] = 1\n",
    "    pred_fn = title_model.build_gen_function()\n",
    "    \n",
    "    res = [1]\n",
    "    abs_in = 1\n",
    "    title_model.gen_reset()\n",
    "    while True:\n",
    "        abs_in_mat = np.zeros((2, ), dtype='int32') + abs_in\n",
    "        #print 'abs_in', abs_in_mat\n",
    "        [p_t, o_t, alpha_t] = pred_fn(nat_coded_mat, nat_mask, abs_in_mat)\n",
    "        #print \"ot\", o_t, ind2word[o_t[0]]\n",
    "        pt_col = p_t[0]\n",
    "        alpha_t = alpha_t[:, 0]\n",
    "        #print alpha_t\n",
    "        alpha_s = alpha_t.argsort()[::-1]\n",
    "        #print sum(pt_col)\n",
    "        pt_norm = [1.0 * a / sum(pt_col) for a in pt_col]\n",
    "        #print pt_norm\n",
    "        ind = np.asarray(pt_norm).argmax()\n",
    "        abs_in = ind\n",
    "        res.append(ind)\n",
    "        if ind == 0 or len(res) > 10:        \n",
    "            break\n",
    "        \n",
    "        #print 'Explanation of: %s' % restoreW([ind], ind2word, tmp_map)\n",
    "        #for k in alpha_s[:len(nat_coded)]:\n",
    "        #    print \"    %s: %.4f\" % (restoreW([nat_coded[k]], ind2word, tmp_map), alpha_t[k])\n",
    "    print\n",
    "    print restoreW(res, ind2word, tmp_map)\n",
    "    print\n",
    "    \n",
    "    # Whenst hour\n",
    "    whenst_hour_pred = theano.function([whenst_hour_model.x_data, whenst_hour_model.xmask], \\\n",
    "                                      whenst_hour_model.ot)\n",
    "    whenst_hour_ot = whenst_hour_pred(nat_coded_mat, nat_mask)\n",
    "    print whenst_hour_ot"
   ]
  },
  {
   "cell_type": "code",
   "execution_count": null,
   "metadata": {
    "collapsed": true
   },
   "outputs": [],
   "source": []
  },
  {
   "cell_type": "code",
   "execution_count": null,
   "metadata": {
    "collapsed": true
   },
   "outputs": [],
   "source": []
  }
 ],
 "metadata": {
  "anaconda-cloud": {},
  "kernelspec": {
   "display_name": "Python [default]",
   "language": "python",
   "name": "python2"
  },
  "language_info": {
   "codemirror_mode": {
    "name": "ipython",
    "version": 2
   },
   "file_extension": ".py",
   "mimetype": "text/x-python",
   "name": "python",
   "nbconvert_exporter": "python",
   "pygments_lexer": "ipython2",
   "version": "2.7.12"
  }
 },
 "nbformat": 4,
 "nbformat_minor": 1
}
