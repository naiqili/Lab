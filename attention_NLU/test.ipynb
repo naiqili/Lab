{
 "cells": [
  {
   "cell_type": "markdown",
   "metadata": {
    "collapsed": true
   },
   "source": [
    "Load model and embedding data."
   ]
  },
  {
   "cell_type": "code",
   "execution_count": 2,
   "metadata": {
    "collapsed": false
   },
   "outputs": [
    {
     "name": "stdout",
     "output_type": "stream",
     "text": [
      "Data loaded.\n"
     ]
    }
   ],
   "source": [
    "import theano\n",
    "import theano.tensor as T\n",
    "import numpy as np\n",
    "import cPickle\n",
    "import random\n",
    "from utils import *\n",
    "from state import *\n",
    "from title_model import TitleModel\n",
    "\n",
    "theano.config.floatX='float64'\n",
    "\n",
    "model_name = 'model/title_emb256_h256_f32_model.npz'\n",
    "\n",
    "state = title_state()\n",
    "model = TitleModel(state, test_mode=True)\n",
    "model.load(model_name)\n",
    "\n",
    "(ind2word, word2ind, _, _, _) = cPickle.load(open('data/dict.pkl'))\n",
    "\n",
    "print('Data loaded.')"
   ]
  },
  {
   "cell_type": "markdown",
   "metadata": {},
   "source": [
    "Now we try to mannually provide an input sentence (if a word is out of vocab, we simply remove it)."
   ]
  },
  {
   "cell_type": "code",
   "execution_count": 8,
   "metadata": {
    "collapsed": false
   },
   "outputs": [
    {
     "name": "stdout",
     "output_type": "stream",
     "text": [
      "Test sent: i would like to go hiking tomorrow\n",
      "  out of vocab: tomorrow, replaced with <TOK1>\n",
      "Coded input: [1, 2982, 133, 3036, 1601, 2413, 920, 3, 0]\n",
      "<START> i would like to go hiking tomorrow <END>\n",
      "Explanation of: go\n",
      "    hiking: 0.7206\n",
      "    would: 0.2099\n",
      "    tomorrow: 0.0601\n",
      "    like: 0.0046\n",
      "    to: 0.0018\n",
      "    go: 0.0017\n",
      "    <END>: 0.0013\n",
      "    i: 0.0000\n",
      "    <START>: 0.0000\n",
      "Explanation of: hiking\n",
      "    hiking: 0.7206\n",
      "    would: 0.2099\n",
      "    tomorrow: 0.0601\n",
      "    like: 0.0046\n",
      "    to: 0.0018\n",
      "    go: 0.0017\n",
      "    <END>: 0.0013\n",
      "    i: 0.0000\n",
      "    <START>: 0.0000\n",
      "\n",
      "<START> go hiking <END>\n",
      "\n",
      "Test sent: i want to sleep all day\n",
      "  out of vocab: sleep, replaced with <TOK14>\n",
      "Coded input: [1, 2982, 188, 1601, 16, 2105, 3010, 0]\n",
      "<START> i want to sleep all day <END>\n",
      "Explanation of: <NO>\n",
      "    want: 0.6597\n",
      "    all: 0.1761\n",
      "    to: 0.1463\n",
      "    sleep: 0.0099\n",
      "    <END>: 0.0042\n",
      "    day: 0.0038\n",
      "    i: 0.0000\n",
      "    <START>: 0.0000\n",
      "\n",
      "<START> <NO> <END>\n",
      "\n",
      "Test sent: i plan to play some video games at home\n",
      "  out of vocab: plan, replaced with <TOK17>\n",
      "  out of vocab: games, replaced with <TOK11>\n",
      "  out of vocab: home, replaced with <TOK15>\n",
      "Coded input: [1, 2982, 19, 1601, 1970, 2251, 2460, 13, 1538, 17, 0]\n",
      "<START> i plan to play some video games at home <END>\n",
      "Explanation of: <NO>\n",
      "    plan: 0.6246\n",
      "    video: 0.1650\n",
      "    some: 0.0880\n",
      "    play: 0.0811\n",
      "    games: 0.0348\n",
      "    to: 0.0034\n",
      "    home: 0.0027\n",
      "    <END>: 0.0004\n",
      "    i: 0.0000\n",
      "    at: 0.0000\n",
      "    <START>: 0.0000\n",
      "\n",
      "<START> <NO> <END>\n",
      "\n"
     ]
    }
   ],
   "source": [
    "def restoreW(ind_lst, ind2word, tmp_map):\n",
    "    res = []\n",
    "    for ind in ind_lst:\n",
    "        if ind in tmp_map:\n",
    "            res.append(tmp_map[ind])\n",
    "        else:\n",
    "            res.append(ind2word[ind])\n",
    "    return ' '.join(res)\n",
    "    \n",
    "\n",
    "test_sents = ['i would like to go hiking tomorrow', 'i want to sleep all day', 'i plan to play some video games at home']\n",
    "\n",
    "for (k, test_sent) in enumerate(test_sents):\n",
    "    print \"Test sent:\", test_sent\n",
    "    words = test_sent.split()\n",
    "    nat_coded = [1]\n",
    "    tmp_map = {}\n",
    "    tok_set = range(20)\n",
    "    for w in words:\n",
    "        if w in word2ind:\n",
    "            nat_coded.append(word2ind[w])\n",
    "        else:\n",
    "            tok_ind = random.choice(tok_set)\n",
    "            tok_s = '<TOK%d>' % tok_ind\n",
    "            tok_set.remove(tok_ind)\n",
    "            nat_coded.append(word2ind[tok_s])\n",
    "            tmp_map[word2ind[tok_s]] = w\n",
    "            print '  out of vocab: %s, replaced with %s' % (w, tok_s)\n",
    "    nat_coded.append(0)\n",
    "    print 'Coded input:', nat_coded\n",
    "    print restoreW(nat_coded, ind2word, tmp_map)\n",
    "\n",
    "    m = state['seq_len_in']\n",
    "    nat_coded_mat = numpy.zeros((m, 2), dtype='int32')\n",
    "    nat_mask = numpy.zeros((m, 2), dtype='float64')\n",
    "    sent_len = len(nat_coded)\n",
    "    nat_coded_mat[:sent_len, 0] = nat_coded\n",
    "    nat_mask[:sent_len, 0] = 1\n",
    "    nat_coded_mat[:sent_len, 1] = nat_coded\n",
    "    nat_mask[:sent_len, 1] = 1\n",
    "    pred_fn = model.build_gen_function()\n",
    "    \n",
    "    res = [1]\n",
    "    abs_in = 1\n",
    "    model.gen_reset()\n",
    "    while True:\n",
    "        abs_in_mat = np.zeros((2, ), dtype='int32') + abs_in\n",
    "        #print 'abs_in', abs_in_mat\n",
    "        [p_t, o_t, alpha_t] = pred_fn(nat_coded_mat, nat_mask, abs_in_mat)\n",
    "        #print \"ot\", o_t, ind2word[o_t[0]]\n",
    "        pt_col = p_t[0]\n",
    "        alpha_t = alpha_t[:, 0]\n",
    "        #print alpha_t\n",
    "        alpha_s = alpha_t.argsort()[::-1]\n",
    "        #print sum(pt_col)\n",
    "        pt_norm = [1.0 * a / sum(pt_col) for a in pt_col]\n",
    "        #print pt_norm\n",
    "        ind = np.asarray(pt_norm).argmax()\n",
    "        abs_in = ind\n",
    "        res.append(ind)\n",
    "        if ind == 0 or len(res) > 10:        \n",
    "            break\n",
    "        \n",
    "        print 'Explanation of: %s' % restoreW([ind], ind2word, tmp_map)\n",
    "        for k in alpha_s[:len(nat_coded)]:\n",
    "            print \"    %s: %.4f\" % (restoreW([nat_coded[k]], ind2word, tmp_map), alpha_t[k])\n",
    "    print\n",
    "    print restoreW(res, ind2word, tmp_map)\n",
    "    print"
   ]
  },
  {
   "cell_type": "code",
   "execution_count": null,
   "metadata": {
    "collapsed": true
   },
   "outputs": [],
   "source": []
  }
 ],
 "metadata": {
  "anaconda-cloud": {},
  "kernelspec": {
   "display_name": "Python [default]",
   "language": "python",
   "name": "python2"
  },
  "language_info": {
   "codemirror_mode": {
    "name": "ipython",
    "version": 2
   },
   "file_extension": ".py",
   "mimetype": "text/x-python",
   "name": "python",
   "nbconvert_exporter": "python",
   "pygments_lexer": "ipython2",
   "version": "2.7.12"
  }
 },
 "nbformat": 4,
 "nbformat_minor": 1
}
